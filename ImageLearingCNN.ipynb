{
 "cells": [
  {
   "cell_type": "code",
   "execution_count": 1,
   "metadata": {
    "collapsed": true,
    "ExecuteTime": {
     "end_time": "2023-08-11T15:49:04.621932100Z",
     "start_time": "2023-08-11T15:48:59.281971100Z"
    }
   },
   "outputs": [],
   "source": [
    "from keras import layers\n",
    "from keras.optimizers import SGD, Adam\n",
    "from keras.models import Sequential\n",
    "from keras.layers import Dense\n",
    "import tensorflow as tf\n",
    "import datetime\n",
    "import numpy as np\n",
    "import pandas as pd\n",
    "from sklearn.metrics import mean_squared_error, mean_absolute_error, r2_score\n",
    "import winsound\n",
    "from sklearn.utils import resample\n",
    "import time\n",
    "from IPython.display import clear_output\n",
    "import matplotlib.pyplot as plt\n",
    "import os\n",
    "import glob\n",
    "import cv2"
   ]
  },
  {
   "cell_type": "code",
   "execution_count": 2,
   "outputs": [],
   "source": [
    "target_width, target_height = 500, 400\n",
    "cv2.destroyAllWindows()"
   ],
   "metadata": {
    "collapsed": false,
    "ExecuteTime": {
     "end_time": "2023-08-11T15:49:04.637557100Z",
     "start_time": "2023-08-11T15:49:04.621932100Z"
    }
   }
  },
  {
   "cell_type": "code",
   "execution_count": 3,
   "outputs": [],
   "source": [
    "def read_images(path):\n",
    "    image_files = glob.glob(os.path.join(path, \"*.jpeg\"))\n",
    "    X =[]\n",
    "\n",
    "    for image_file in image_files:\n",
    "        image = cv2.imread(image_file)\n",
    "        image = cv2.resize(image, (target_width, target_height))\n",
    "        X.append(image)\n",
    "    return X"
   ],
   "metadata": {
    "collapsed": false,
    "ExecuteTime": {
     "end_time": "2023-08-11T15:49:04.659692700Z",
     "start_time": "2023-08-11T15:49:04.637557100Z"
    }
   }
  },
  {
   "cell_type": "code",
   "execution_count": 4,
   "outputs": [],
   "source": [
    "# train_normal = read_images(\"ChestXRay2017/chest_xray/train/normal\")\n",
    "# train_pneumonia = read_images(\"ChestXRay2017/chest_xray/train/pneumonia\")\n",
    "# train_X = train_normal+train_pneumonia\n",
    "# train_y = np.zeros(len(train_normal)).tolist() + np.ones(len(train_pneumonia)).tolist()\n",
    "\n",
    "test_normal = read_images(\"ChestXRay2017/chest_xray/test/normal\")\n",
    "test_pneumonia = read_images(\"ChestXRay2017/chest_xray/test/pneumonia\")\n",
    "test_X = np.array(test_normal+test_pneumonia)\n",
    "test_y = np.array(np.zeros(len(test_normal)).tolist() + np.ones(len(test_pneumonia)).tolist())"
   ],
   "metadata": {
    "collapsed": false,
    "ExecuteTime": {
     "end_time": "2023-08-11T15:49:12.132548200Z",
     "start_time": "2023-08-11T15:49:04.659692700Z"
    }
   }
  },
  {
   "cell_type": "code",
   "execution_count": 5,
   "outputs": [],
   "source": [
    "def create_model(X, y, verbose=1, epochs=100, batch_size=128):\n",
    "    model = Sequential()\n",
    "\n",
    "    model.add(layers.Conv2D(16, (3, 3), activation='relu', input_shape=(target_height,target_width, 3))),\n",
    "    model.add(layers.MaxPooling2D((2, 2))),\n",
    "    model.add(layers.Dropout(0.1)),\n",
    "\n",
    "    model.add(layers.Conv2D(32, (5, 5), activation='relu')),\n",
    "    model.add(layers.MaxPooling2D((2, 2))),\n",
    "    model.add(layers.Dropout(0.1)),\n",
    "\n",
    "    model.add(layers.Flatten())\n",
    "\n",
    "    model.add(Dense(128, activation=\"relu\"))\n",
    "    model.add(layers.Dropout(0.25))\n",
    "    model.add(Dense(16, activation=\"relu\"))\n",
    "    model.add(layers.Dropout(0.15))\n",
    "    model.add(Dense(1, activation='sigmoid'))\n",
    "\n",
    "    model.compile(loss='binary_crossentropy', optimizer=SGD(learning_rate=0.00025, momentum=0.85), metrics=['accuracy'])\n",
    "\n",
    "    history = model.fit(X, y, epochs=epochs, verbose=verbose, batch_size=batch_size, validation_split=0.2)\n",
    "\n",
    "\n",
    "    return history"
   ],
   "metadata": {
    "collapsed": false,
    "ExecuteTime": {
     "end_time": "2023-08-11T15:49:12.148169900Z",
     "start_time": "2023-08-11T15:49:12.132548200Z"
    }
   }
  },
  {
   "cell_type": "code",
   "execution_count": null,
   "outputs": [
    {
     "name": "stdout",
     "output_type": "stream",
     "text": [
      "Epoch 1/100\n",
      "4/4 [==============================] - 47s 12s/step - loss: 160.8603 - accuracy: 0.4469 - val_loss: 192.4041 - val_accuracy: 0.0000e+00\n",
      "Epoch 2/100\n",
      "1/4 [======>.......................] - ETA: 32s - loss: 140.1802 - accuracy: 0.4766"
     ]
    }
   ],
   "source": [
    "history = create_model(test_X, test_y)"
   ],
   "metadata": {
    "collapsed": false,
    "ExecuteTime": {
     "start_time": "2023-08-11T15:49:12.148169900Z"
    }
   }
  },
  {
   "cell_type": "code",
   "execution_count": null,
   "outputs": [],
   "source": [
    "loss_train = history.history['loss'][1:]\n",
    "loss_val = history.history['val_loss'][1:]\n",
    "plt.plot(loss_train, 'g', label='Training loss')\n",
    "plt.plot(loss_val, 'b', label='validation loss')\n",
    "plt.title('Training and Validation loss')\n",
    "plt.xlabel('Epochs')\n",
    "plt.ylabel('Loss')\n",
    "plt.legend()\n",
    "plt.show()"
   ],
   "metadata": {
    "collapsed": false
   }
  },
  {
   "cell_type": "code",
   "execution_count": null,
   "outputs": [],
   "source": [
    "loss_train = history.history['accuracy']\n",
    "loss_val = history.history['val_accuracy']\n",
    "plt.plot(loss_train, 'g', label='Training accuracy')\n",
    "plt.plot(loss_val, 'b', label='validation accuracy')\n",
    "plt.title('Training and Validation accuracy')\n",
    "plt.xlabel('Epochs')\n",
    "plt.ylabel('Accuracy')\n",
    "plt.legend()\n",
    "plt.show()"
   ],
   "metadata": {
    "collapsed": false
   }
  },
  {
   "cell_type": "code",
   "execution_count": null,
   "outputs": [],
   "source": [
    "cv2.destroyAllWindows()"
   ],
   "metadata": {
    "collapsed": false
   }
  }
 ],
 "metadata": {
  "kernelspec": {
   "display_name": "Python 3",
   "language": "python",
   "name": "python3"
  },
  "language_info": {
   "codemirror_mode": {
    "name": "ipython",
    "version": 2
   },
   "file_extension": ".py",
   "mimetype": "text/x-python",
   "name": "python",
   "nbconvert_exporter": "python",
   "pygments_lexer": "ipython2",
   "version": "2.7.6"
  }
 },
 "nbformat": 4,
 "nbformat_minor": 0
}
